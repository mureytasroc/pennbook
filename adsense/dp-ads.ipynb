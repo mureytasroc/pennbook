{
 "cells": [
  {
   "cell_type": "code",
   "execution_count": 1,
   "id": "59cd4de9-2f10-414a-951a-20592dd5e9ce",
   "metadata": {},
   "outputs": [],
   "source": [
    "import numpy as np\n",
    "import pandas as pd\n",
    "import json\n",
    "import re\n",
    "import torch\n",
    "import opacus"
   ]
  },
  {
   "cell_type": "markdown",
   "id": "9deeb790-f83f-439f-9af7-870bb3429b15",
   "metadata": {},
   "source": [
    "# Plan for Ad Recommendation\n",
    "\n",
    "- Logistic regression will take in a normalized vector in R41 (interests)\n",
    "- Output a (normalized) vector in R39 (categories in the ad dataset)\n",
    "- Train log reg using PyTorch with opacus privacy engine. Delta 1/6k (size of dataset)\n",
    "- Trained by sending 41C1, 41C2, 41C3 combinations of interests and their corresponding ad categories (all normalized). (We will  construct this mapping manually — i.e map each interest to ad categories)\n",
    "- Hopefully this shld generalize well to larger combinations of interests\n",
    "- Idea for prediction: each user has an interests vector; initially evenly divided\n",
    "- Run a forward pass of log reg on interests vector, we get a normalized categories vector\n",
    "- We'll then sample from this normalized vector as a probability distribution over categories. Then select at random an image with this category and display it\n",
    "- If user clicks on ad, bump corresponding interests vector entries by epsilon. \n",
    "When to retrain log reg? Have an ad click diff?\n"
   ]
  },
  {
   "cell_type": "code",
   "execution_count": 2,
   "id": "ccdd0712-061b-4982-87b7-ba8a123b21a9",
   "metadata": {},
   "outputs": [
    {
     "data": {
      "text/plain": [
       "{'1': '\"Restaurants, cafe, fast food\" ',\n",
       " '2': '\"Chocolate, cookies, candy, ice cream\" ',\n",
       " '3': '\"Chips, snacks, nuts, fruit, gum, cereal, yogurt, soups\" ',\n",
       " '4': '\"Seasoning, condiments, ketchup\" ',\n",
       " '5': '\"Pet food\" ',\n",
       " '6': '\"Alcohol\" ',\n",
       " '7': '\"Coffee, tea\" ',\n",
       " '8': '\"Soda, juice, milk, energy drinks, water\" ',\n",
       " '9': '\"Cars, automobiles \" ',\n",
       " '10': '\"Electronics \" ',\n",
       " '11': '\"Phone, TV and internet service providers\" ',\n",
       " '12': '\"Financial services \" ',\n",
       " '13': '\"Education \" ',\n",
       " '14': '\"Security and safety services \" ',\n",
       " '15': '\"Software \" ',\n",
       " '16': '\"Other services \" ',\n",
       " '17': '\"Beauty products and cosmetics \" ',\n",
       " '18': '\"Healthcare and medications \" ',\n",
       " '19': '\"Clothing and accessories \" ',\n",
       " '20': '\"Baby products \" ',\n",
       " '21': '\"Games and toys \" ',\n",
       " '22': '\"Cleaning products \" ',\n",
       " '23': '\"Home improvements and repairs \" ',\n",
       " '24': '\"Home appliances \" ',\n",
       " '25': '\"Vacation and travel \" ',\n",
       " '26': '\"Media and arts \" ',\n",
       " '27': '\"Sports equipment and activities\" ',\n",
       " '28': '\"Shopping \" ',\n",
       " '29': '\"Gambling \" ',\n",
       " '30': '\"Environment, nature, pollution, wildlife\" ',\n",
       " '31': '\"Animal rights, animal abuse\" ',\n",
       " '32': '\"Human rights\" ',\n",
       " '33': '\"Safety, safe driving, fire safety\" ',\n",
       " '34': '\"Smoking, alcohol abuse\" ',\n",
       " '35': '\"Domestic violence\" ',\n",
       " '36': '\"Self esteem, bullying, cyber bullying\" ',\n",
       " '37': '\"Political candidates \" ',\n",
       " '38': '\"Charities\" ',\n",
       " '39': '\"Unclear\"'}"
      ]
     },
     "execution_count": 2,
     "metadata": {},
     "output_type": "execute_result"
    }
   ],
   "source": [
    "with open(\"annotations_images/image/Topics_List.txt\", encoding=\"utf8\", errors=\"ignore\") as f:\n",
    "    l= f.read().replace('\\x00','')\n",
    "    mapping = {}\n",
    "    for item in l.split(\"\\n\"):\n",
    "        if item:\n",
    "            idx, content = item.split(\"\\t\")\n",
    "            mapping[idx] = re.sub(r'\\([^)]*\\)', \"\", content)\n",
    "mapping"
   ]
  },
  {
   "cell_type": "code",
   "execution_count": 3,
   "id": "54033e9b-6e14-4238-9568-09d204246374",
   "metadata": {},
   "outputs": [],
   "source": [
    "# This is handmade\n",
    "topic_mapping = {\"1\": [8, 9, 15, 24], \"2\": [8, 9, 24], \n",
    "                 \"3\": [8, 9, 24], \"4\": [], \"5\": [], \"6\": [8], \"7\": [8, 9, 24], \n",
    "                 \"8\": [8, 9, 24], \"9\":[11, 16, 27], \"10\": [21, 34, 11], \"11\":[21, 34, 11], \n",
    "                 \"12\": [28, 29, 13, 10], \"13\": [31, 40, 4, 5], \"14\": [34, 11],\n",
    "                 \"15\": [34, 11], \"16\": [28, 39, 32, 31], \"17\": [5, 13, 18, 36, 37],\n",
    "                 \"18\": [15, 11, 36], \"19\": [13, 14, 36], \"20\": [15,37, 23], \"21\": [15, 39, 25, 23],\n",
    "                 \"22\": [15], \"23\": [15], \"24\": [15, 34], \"25\": [16, 18, 24, 38, 32], \"26\": [5, 39],\n",
    "                 \"27\": [27], \"28\":[28, 15, 14, 13, 39], \"29\": [29], \"30\": [38, 16], \"31\": [31, 32], \n",
    "                 \"32\": [31], \"33\": [], \"34\": [24, 17], \"35\": [33], \"36\": [33], \"37\": [22], \"38\": [29, 28, 4], \n",
    "                 \"39\": [3, 19, 20, 30, 31, 32, 33, 35]\n",
    "                }"
   ]
  },
  {
   "cell_type": "code",
   "execution_count": 27,
   "id": "fc9a7490-9a52-4709-b9cd-c55aff0d31fb",
   "metadata": {},
   "outputs": [
    {
     "data": {
      "text/html": [
       "<div>\n",
       "<style scoped>\n",
       "    .dataframe tbody tr th:only-of-type {\n",
       "        vertical-align: middle;\n",
       "    }\n",
       "\n",
       "    .dataframe tbody tr th {\n",
       "        vertical-align: top;\n",
       "    }\n",
       "\n",
       "    .dataframe thead th {\n",
       "        text-align: right;\n",
       "    }\n",
       "</style>\n",
       "<table border=\"1\" class=\"dataframe\">\n",
       "  <thead>\n",
       "    <tr style=\"text-align: right;\">\n",
       "      <th></th>\n",
       "      <th>category</th>\n",
       "    </tr>\n",
       "  </thead>\n",
       "  <tbody>\n",
       "    <tr>\n",
       "      <th>0</th>\n",
       "      <td>religion</td>\n",
       "    </tr>\n",
       "    <tr>\n",
       "      <th>1</th>\n",
       "      <td>divorce</td>\n",
       "    </tr>\n",
       "    <tr>\n",
       "      <th>2</th>\n",
       "      <td>parents</td>\n",
       "    </tr>\n",
       "    <tr>\n",
       "      <th>3</th>\n",
       "      <td>black voices</td>\n",
       "    </tr>\n",
       "    <tr>\n",
       "      <th>4</th>\n",
       "      <td>good news</td>\n",
       "    </tr>\n",
       "  </tbody>\n",
       "</table>\n",
       "</div>"
      ],
      "text/plain": [
       "       category\n",
       "0      religion\n",
       "1       divorce\n",
       "2       parents\n",
       "3  black voices\n",
       "4     good news"
      ]
     },
     "execution_count": 27,
     "metadata": {},
     "output_type": "execute_result"
    }
   ],
   "source": [
    "pd.read_csv(\"results.csv\").head()"
   ]
  },
  {
   "cell_type": "code",
   "execution_count": 5,
   "id": "554aedd3-3e0b-4995-891e-eafda259ea6c",
   "metadata": {},
   "outputs": [],
   "source": [
    "inv_map = {}\n",
    "for k,v in topic_mapping.items():\n",
    "    for x in v:\n",
    "        inv_map.setdefault(x,[]).append(k)"
   ]
  },
  {
   "cell_type": "code",
   "execution_count": 6,
   "id": "b1aeec3c-559e-4e8c-8bed-f43d78d94af9",
   "metadata": {},
   "outputs": [],
   "source": [
    "import itertools\n",
    "keys = list(inv_map.keys())"
   ]
  },
  {
   "cell_type": "code",
   "execution_count": 7,
   "id": "17e508ff-2f15-4c74-a26d-ab06d588c260",
   "metadata": {},
   "outputs": [],
   "source": [
    "combo1 = list(itertools.combinations(keys, 1))\n",
    "combo2 = list(itertools.combinations(keys, 2))\n",
    "combo3 = list(itertools.combinations(keys, 3))"
   ]
  },
  {
   "cell_type": "code",
   "execution_count": 8,
   "id": "7208cf5f-7548-4915-af96-5e048393ec25",
   "metadata": {},
   "outputs": [],
   "source": [
    "X_train = []\n",
    "Y_train = []"
   ]
  },
  {
   "cell_type": "code",
   "execution_count": 9,
   "id": "52a81d3e-c8a2-4c7a-997a-be5b3c38e844",
   "metadata": {},
   "outputs": [],
   "source": [
    "for combo in [combo1, combo2, combo3]:\n",
    "    for item in combo:\n",
    "        x_arr = np.zeros(41)\n",
    "        y_arr = np.zeros(40)\n",
    "\n",
    "        for idx in item:\n",
    "            x_arr[idx] = 1\n",
    "            for v in inv_map[idx]:\n",
    "                y_arr[int(v)] += 1\n",
    "        X_train.append(x_arr / np.linalg.norm(x_arr, ord=1))\n",
    "        Y_train.append(y_arr / np.linalg.norm(y_arr, ord=1))"
   ]
  },
  {
   "cell_type": "code",
   "execution_count": 10,
   "id": "f04930a0-4c25-4c98-97a6-a8274e35c19f",
   "metadata": {},
   "outputs": [],
   "source": [
    "X = np.array(X_train).astype(np.float32)\n",
    "Y = np.array(Y_train).astype(np.float32)"
   ]
  },
  {
   "cell_type": "code",
   "execution_count": 11,
   "id": "b452ce77-3fdd-4632-9750-5d935375ab30",
   "metadata": {},
   "outputs": [],
   "source": [
    "from sklearn.model_selection import train_test_split"
   ]
  },
  {
   "cell_type": "code",
   "execution_count": 12,
   "id": "f20bd4a7-0a17-4e29-b5e7-043a0c609b59",
   "metadata": {},
   "outputs": [],
   "source": [
    "X_train, X_test, y_train, y_test = train_test_split(X, Y, test_size=0.1)"
   ]
  },
  {
   "cell_type": "code",
   "execution_count": 13,
   "id": "988a9a77-27ac-4ee9-891a-f0dcb0eb5e57",
   "metadata": {},
   "outputs": [],
   "source": [
    "import torch.nn as nn\n",
    "import torch.optim as optim\n",
    "from opacus import PrivacyEngine\n",
    "from torchvision import datasets, transforms"
   ]
  },
  {
   "cell_type": "code",
   "execution_count": 14,
   "id": "b7a5b134-2a71-422c-96c4-48ec2f64da56",
   "metadata": {},
   "outputs": [],
   "source": [
    "class AdModel(torch.nn.Module):\n",
    "    def __init__(self):\n",
    "        super(AdModel, self).__init__()\n",
    "        self.layers = torch.nn.Sequential(\n",
    "            torch.nn.Linear(41, 64),\n",
    "            torch.nn.ReLU(),\n",
    "            torch.nn.Linear(64, 64),\n",
    "            torch.nn.ReLU(),\n",
    "            torch.nn.Linear(64, 40),\n",
    "            torch.nn.ReLU(),\n",
    "        )\n",
    "\n",
    "    def forward(self, x):\n",
    "        return self.layers(x)"
   ]
  },
  {
   "cell_type": "code",
   "execution_count": 21,
   "id": "62a628d7-ebfc-4a6c-a8c2-e6633b61a586",
   "metadata": {},
   "outputs": [],
   "source": [
    "def train(model, train_loader, optimizer, privacy_engine, epoch):\n",
    "    model.train()\n",
    "    criterion = nn.HuberLoss()\n",
    "    losses = []\n",
    "    for _batch_idx, (data, target) in enumerate(tqdm(train_loader)):\n",
    "        data, target = data, target\n",
    "        optimizer.zero_grad()\n",
    "        output = model(data)\n",
    "        loss = criterion(output, target)\n",
    "        loss.backward()\n",
    "        optimizer.step()\n",
    "        losses.append(loss.item())\n",
    "\n",
    "   \n",
    "    epsilon, best_alpha = privacy_engine.accountant.get_privacy_spent(\n",
    "        delta=1e-5\n",
    "    )\n",
    "    print(f\"Train Epoch: {epoch} \\t\"\n",
    "        f\"Loss: {np.mean(losses):.6f} \"\n",
    "        f\"(ε = {epsilon:.2f}, δ = {1/6000}) for α = {best_alpha}\")\n",
    "    return\n",
    "   \n",
    "\n",
    "\n",
    "def test(model,test_loader):\n",
    "    model.eval()\n",
    "    criterion = nn.HuberLoss()\n",
    "    test_loss = 0\n",
    "    correct = 0\n",
    "    with torch.no_grad():\n",
    "        for data, target in tqdm(test_loader):\n",
    "            data, target = data, target\n",
    "            output = model(data)\n",
    "            test_loss += criterion(output, target).item()  # sum up batch loss\n",
    "\n",
    "    test_loss /= len(test_loader.dataset)\n",
    "\n",
    "    print(f\"\\nTest set: Average loss: {test_loss}\")\n",
    "\n",
    "    return correct / len(test_loader.dataset)"
   ]
  },
  {
   "cell_type": "code",
   "execution_count": 22,
   "id": "45e34f4a-2c42-4418-816f-1cb311e7b3fc",
   "metadata": {},
   "outputs": [],
   "source": [
    "from torch.utils.data import Dataset\n",
    "class AdDataset(Dataset):\n",
    "    def __init__(self, X, Y):\n",
    "        self.X = X\n",
    "        self.Y = Y\n",
    "\n",
    "    def __len__(self):\n",
    "        return len(self.X)\n",
    "\n",
    "    def __getitem__(self, idx):\n",
    "        return self.X[idx], self.Y[idx]\n",
    "\n",
    "training_data = AdDataset(X_train, y_train)\n",
    "testing_data = AdDataset(X_test, y_test)"
   ]
  },
  {
   "cell_type": "code",
   "execution_count": 23,
   "id": "ecbb2c1d-6003-475d-b4be-1cf2d9a4c16e",
   "metadata": {},
   "outputs": [],
   "source": [
    "train_loader = torch.utils.data.DataLoader(training_data,batch_size=128,pin_memory=True)\n",
    "test_loader = torch.utils.data.DataLoader(testing_data,batch_size=128, shuffle=True,pin_memory=True)"
   ]
  },
  {
   "cell_type": "code",
   "execution_count": 24,
   "id": "7eddf613-4a52-4fbc-9797-1b0ff3db45e2",
   "metadata": {},
   "outputs": [],
   "source": [
    "from tqdm import tqdm\n",
    "import torch.nn.functional as F"
   ]
  },
  {
   "cell_type": "code",
   "execution_count": 25,
   "id": "92c818ea-9598-4e95-b446-f76e58673d78",
   "metadata": {},
   "outputs": [
    {
     "name": "stderr",
     "output_type": "stream",
     "text": [
      "100%|██████████████████████████████████████████| 47/47 [00:00<00:00, 220.69it/s]\n"
     ]
    },
    {
     "name": "stdout",
     "output_type": "stream",
     "text": [
      "Train Epoch: 1 \tLoss: 0.002370 (ε = 1.65, δ = 0.00016666666666666666) for α = 7.3\n"
     ]
    },
    {
     "name": "stderr",
     "output_type": "stream",
     "text": [
      "100%|██████████████████████████████████████████| 47/47 [00:00<00:00, 239.16it/s]\n"
     ]
    },
    {
     "name": "stdout",
     "output_type": "stream",
     "text": [
      "Train Epoch: 2 \tLoss: 0.002249 (ε = 1.90, δ = 0.00016666666666666666) for α = 7.0\n"
     ]
    },
    {
     "name": "stderr",
     "output_type": "stream",
     "text": [
      "100%|██████████████████████████████████████████| 47/47 [00:00<00:00, 242.66it/s]\n"
     ]
    },
    {
     "name": "stdout",
     "output_type": "stream",
     "text": [
      "Train Epoch: 3 \tLoss: 0.002182 (ε = 2.11, δ = 0.00016666666666666666) for α = 6.7\n"
     ]
    },
    {
     "name": "stderr",
     "output_type": "stream",
     "text": [
      "100%|██████████████████████████████████████████| 47/47 [00:00<00:00, 241.86it/s]\n"
     ]
    },
    {
     "name": "stdout",
     "output_type": "stream",
     "text": [
      "Train Epoch: 4 \tLoss: 0.002097 (ε = 2.31, δ = 0.00016666666666666666) for α = 6.6\n"
     ]
    },
    {
     "name": "stderr",
     "output_type": "stream",
     "text": [
      "100%|██████████████████████████████████████████| 47/47 [00:00<00:00, 246.54it/s]\n"
     ]
    },
    {
     "name": "stdout",
     "output_type": "stream",
     "text": [
      "Train Epoch: 5 \tLoss: 0.002009 (ε = 2.49, δ = 0.00016666666666666666) for α = 6.4\n"
     ]
    },
    {
     "name": "stderr",
     "output_type": "stream",
     "text": [
      "100%|██████████████████████████████████████████| 47/47 [00:00<00:00, 247.29it/s]\n"
     ]
    },
    {
     "name": "stdout",
     "output_type": "stream",
     "text": [
      "Train Epoch: 6 \tLoss: 0.001974 (ε = 2.66, δ = 0.00016666666666666666) for α = 6.3\n"
     ]
    },
    {
     "name": "stderr",
     "output_type": "stream",
     "text": [
      "100%|██████████████████████████████████████████| 47/47 [00:00<00:00, 243.25it/s]\n"
     ]
    },
    {
     "name": "stdout",
     "output_type": "stream",
     "text": [
      "Train Epoch: 7 \tLoss: 0.001938 (ε = 2.82, δ = 0.00016666666666666666) for α = 6.1\n"
     ]
    },
    {
     "name": "stderr",
     "output_type": "stream",
     "text": [
      "100%|██████████████████████████████████████████| 47/47 [00:00<00:00, 246.11it/s]\n"
     ]
    },
    {
     "name": "stdout",
     "output_type": "stream",
     "text": [
      "Train Epoch: 8 \tLoss: 0.001896 (ε = 2.97, δ = 0.00016666666666666666) for α = 6.0\n"
     ]
    },
    {
     "name": "stderr",
     "output_type": "stream",
     "text": [
      "100%|██████████████████████████████████████████| 47/47 [00:00<00:00, 245.14it/s]\n"
     ]
    },
    {
     "name": "stdout",
     "output_type": "stream",
     "text": [
      "Train Epoch: 9 \tLoss: 0.001910 (ε = 3.12, δ = 0.00016666666666666666) for α = 5.9\n"
     ]
    },
    {
     "name": "stderr",
     "output_type": "stream",
     "text": [
      "100%|██████████████████████████████████████████| 47/47 [00:00<00:00, 241.83it/s]\n"
     ]
    },
    {
     "name": "stdout",
     "output_type": "stream",
     "text": [
      "Train Epoch: 10 \tLoss: 0.001896 (ε = 3.26, δ = 0.00016666666666666666) for α = 5.8\n"
     ]
    },
    {
     "name": "stderr",
     "output_type": "stream",
     "text": [
      "100%|██████████████████████████████████████████| 47/47 [00:00<00:00, 244.58it/s]\n"
     ]
    },
    {
     "name": "stdout",
     "output_type": "stream",
     "text": [
      "Train Epoch: 11 \tLoss: 0.001883 (ε = 3.40, δ = 0.00016666666666666666) for α = 5.7\n"
     ]
    },
    {
     "name": "stderr",
     "output_type": "stream",
     "text": [
      "100%|██████████████████████████████████████████| 47/47 [00:00<00:00, 243.22it/s]\n"
     ]
    },
    {
     "name": "stdout",
     "output_type": "stream",
     "text": [
      "Train Epoch: 12 \tLoss: 0.001898 (ε = 3.53, δ = 0.00016666666666666666) for α = 5.6\n"
     ]
    },
    {
     "name": "stderr",
     "output_type": "stream",
     "text": [
      "100%|██████████████████████████████████████████| 47/47 [00:00<00:00, 247.66it/s]\n"
     ]
    },
    {
     "name": "stdout",
     "output_type": "stream",
     "text": [
      "Train Epoch: 13 \tLoss: 0.001877 (ε = 3.66, δ = 0.00016666666666666666) for α = 5.5\n"
     ]
    },
    {
     "name": "stderr",
     "output_type": "stream",
     "text": [
      "100%|██████████████████████████████████████████| 47/47 [00:00<00:00, 241.85it/s]\n"
     ]
    },
    {
     "name": "stdout",
     "output_type": "stream",
     "text": [
      "Train Epoch: 14 \tLoss: 0.001895 (ε = 3.79, δ = 0.00016666666666666666) for α = 5.4\n"
     ]
    },
    {
     "name": "stderr",
     "output_type": "stream",
     "text": [
      "100%|██████████████████████████████████████████| 47/47 [00:00<00:00, 242.33it/s]\n"
     ]
    },
    {
     "name": "stdout",
     "output_type": "stream",
     "text": [
      "Train Epoch: 15 \tLoss: 0.001876 (ε = 3.91, δ = 0.00016666666666666666) for α = 5.3\n"
     ]
    },
    {
     "name": "stderr",
     "output_type": "stream",
     "text": [
      "100%|██████████████████████████████████████████| 47/47 [00:00<00:00, 243.58it/s]\n"
     ]
    },
    {
     "name": "stdout",
     "output_type": "stream",
     "text": [
      "Train Epoch: 16 \tLoss: 0.001878 (ε = 4.03, δ = 0.00016666666666666666) for α = 5.2\n"
     ]
    },
    {
     "name": "stderr",
     "output_type": "stream",
     "text": [
      "100%|██████████████████████████████████████████| 47/47 [00:00<00:00, 248.01it/s]\n"
     ]
    },
    {
     "name": "stdout",
     "output_type": "stream",
     "text": [
      "Train Epoch: 17 \tLoss: 0.001891 (ε = 4.15, δ = 0.00016666666666666666) for α = 5.1\n"
     ]
    },
    {
     "name": "stderr",
     "output_type": "stream",
     "text": [
      "100%|██████████████████████████████████████████| 47/47 [00:00<00:00, 243.29it/s]\n"
     ]
    },
    {
     "name": "stdout",
     "output_type": "stream",
     "text": [
      "Train Epoch: 18 \tLoss: 0.001852 (ε = 4.26, δ = 0.00016666666666666666) for α = 5.1\n"
     ]
    },
    {
     "name": "stderr",
     "output_type": "stream",
     "text": [
      "100%|██████████████████████████████████████████| 47/47 [00:00<00:00, 247.83it/s]\n"
     ]
    },
    {
     "name": "stdout",
     "output_type": "stream",
     "text": [
      "Train Epoch: 19 \tLoss: 0.001859 (ε = 4.38, δ = 0.00016666666666666666) for α = 5.0\n"
     ]
    },
    {
     "name": "stderr",
     "output_type": "stream",
     "text": [
      "100%|██████████████████████████████████████████| 47/47 [00:00<00:00, 248.34it/s]\n"
     ]
    },
    {
     "name": "stdout",
     "output_type": "stream",
     "text": [
      "Train Epoch: 20 \tLoss: 0.001859 (ε = 4.49, δ = 0.00016666666666666666) for α = 4.9\n"
     ]
    },
    {
     "name": "stderr",
     "output_type": "stream",
     "text": [
      "100%|██████████████████████████████████████████| 47/47 [00:00<00:00, 247.38it/s]\n"
     ]
    },
    {
     "name": "stdout",
     "output_type": "stream",
     "text": [
      "Train Epoch: 21 \tLoss: 0.001869 (ε = 4.59, δ = 0.00016666666666666666) for α = 4.9\n"
     ]
    },
    {
     "name": "stderr",
     "output_type": "stream",
     "text": [
      "100%|██████████████████████████████████████████| 47/47 [00:00<00:00, 242.20it/s]\n"
     ]
    },
    {
     "name": "stdout",
     "output_type": "stream",
     "text": [
      "Train Epoch: 22 \tLoss: 0.001846 (ε = 4.70, δ = 0.00016666666666666666) for α = 4.8\n"
     ]
    },
    {
     "name": "stderr",
     "output_type": "stream",
     "text": [
      "100%|██████████████████████████████████████████| 47/47 [00:00<00:00, 243.62it/s]\n"
     ]
    },
    {
     "name": "stdout",
     "output_type": "stream",
     "text": [
      "Train Epoch: 23 \tLoss: 0.001861 (ε = 4.81, δ = 0.00016666666666666666) for α = 4.7\n"
     ]
    },
    {
     "name": "stderr",
     "output_type": "stream",
     "text": [
      "100%|██████████████████████████████████████████| 47/47 [00:00<00:00, 243.71it/s]\n"
     ]
    },
    {
     "name": "stdout",
     "output_type": "stream",
     "text": [
      "Train Epoch: 24 \tLoss: 0.001859 (ε = 4.91, δ = 0.00016666666666666666) for α = 4.7\n"
     ]
    },
    {
     "name": "stderr",
     "output_type": "stream",
     "text": [
      "100%|██████████████████████████████████████████| 47/47 [00:00<00:00, 245.32it/s]\n"
     ]
    },
    {
     "name": "stdout",
     "output_type": "stream",
     "text": [
      "Train Epoch: 25 \tLoss: 0.001865 (ε = 5.01, δ = 0.00016666666666666666) for α = 4.6\n"
     ]
    },
    {
     "name": "stderr",
     "output_type": "stream",
     "text": [
      "100%|██████████████████████████████████████████| 47/47 [00:00<00:00, 248.44it/s]\n"
     ]
    },
    {
     "name": "stdout",
     "output_type": "stream",
     "text": [
      "Train Epoch: 26 \tLoss: 0.001857 (ε = 5.11, δ = 0.00016666666666666666) for α = 4.6\n"
     ]
    },
    {
     "name": "stderr",
     "output_type": "stream",
     "text": [
      "100%|██████████████████████████████████████████| 47/47 [00:00<00:00, 247.01it/s]\n"
     ]
    },
    {
     "name": "stdout",
     "output_type": "stream",
     "text": [
      "Train Epoch: 27 \tLoss: 0.001828 (ε = 5.21, δ = 0.00016666666666666666) for α = 4.5\n"
     ]
    },
    {
     "name": "stderr",
     "output_type": "stream",
     "text": [
      "100%|██████████████████████████████████████████| 47/47 [00:00<00:00, 248.60it/s]\n"
     ]
    },
    {
     "name": "stdout",
     "output_type": "stream",
     "text": [
      "Train Epoch: 28 \tLoss: 0.001880 (ε = 5.30, δ = 0.00016666666666666666) for α = 4.5\n"
     ]
    },
    {
     "name": "stderr",
     "output_type": "stream",
     "text": [
      "100%|██████████████████████████████████████████| 47/47 [00:00<00:00, 250.20it/s]\n"
     ]
    },
    {
     "name": "stdout",
     "output_type": "stream",
     "text": [
      "Train Epoch: 29 \tLoss: 0.001856 (ε = 5.40, δ = 0.00016666666666666666) for α = 4.5\n"
     ]
    },
    {
     "name": "stderr",
     "output_type": "stream",
     "text": [
      "100%|███████████████████████████████████████████| 6/6 [00:00<00:00, 1023.75it/s]"
     ]
    },
    {
     "name": "stdout",
     "output_type": "stream",
     "text": [
      "\n",
      "Test set: Average loss: 1.670921923405856e-05\n"
     ]
    },
    {
     "name": "stderr",
     "output_type": "stream",
     "text": [
      "\n"
     ]
    }
   ],
   "source": [
    "run_results = []\n",
    "model = AdModel()\n",
    "\n",
    "optimizer = optim.SGD(model.parameters(), lr=0.05, momentum=0.5)\n",
    "privacy_engine = PrivacyEngine(secure_mode=False)\n",
    "model, optimizer, train_loader = privacy_engine.make_private(\n",
    "    module=model,\n",
    "    optimizer=optimizer,\n",
    "    data_loader=train_loader,\n",
    "    noise_multiplier=1.0,\n",
    "    max_grad_norm=1.0,\n",
    ")\n",
    "\n",
    "for epoch in range(1, 30):\n",
    "    train(model, train_loader, optimizer, privacy_engine, epoch)\n",
    "run_results.append(test(model,test_loader))\n",
    "\n",
    "if len(run_results) > 1:\n",
    "    print(\n",
    "        \"Accuracy averaged over {} runs: {:.2f}% ± {:.2f}%\".format(\n",
    "            len(run_results), np.mean(run_results) * 100, np.std(run_results) * 100\n",
    "        )\n",
    "    )"
   ]
  },
  {
   "cell_type": "code",
   "execution_count": 26,
   "id": "21665410-e761-49ce-8b7c-853e9dfa1314",
   "metadata": {},
   "outputs": [
    {
     "data": {
      "text/plain": [
       "[(1, 0.22584109),\n",
       " (9, 0.20723513),\n",
       " (11, 0.16781266),\n",
       " (20, 0.22721857),\n",
       " (25, 0.17189254)]"
      ]
     },
     "execution_count": 26,
     "metadata": {},
     "output_type": "execute_result"
    }
   ],
   "source": [
    "# Example input:\n",
    "\n",
    "v = np.zeros(41).astype('float32')\n",
    "v[36] = 1\n",
    "v[37] = 1\n",
    "model.eval()\n",
    "op = model(torch.from_numpy(v)).detach().numpy()\n",
    "\n",
    "# Remove those with negative or low likelihood\n",
    "\n",
    "op[op < 0.05] = 0\n",
    "\n",
    "# Normalize to give probability distribution\n",
    "\n",
    "eva = op / np.linalg.norm(op, ord=1)\n",
    "\n",
    "[(i, v) for i, v in enumerate(eva) if v > 0]\n",
    "\n",
    "# We have a distribution over ad categories now: we will sample an image in the prediction service using this"
   ]
  }
 ],
 "metadata": {
  "kernelspec": {
   "display_name": "Python 3 (ipykernel)",
   "language": "python",
   "name": "python3"
  },
  "language_info": {
   "codemirror_mode": {
    "name": "ipython",
    "version": 3
   },
   "file_extension": ".py",
   "mimetype": "text/x-python",
   "name": "python",
   "nbconvert_exporter": "python",
   "pygments_lexer": "ipython3",
   "version": "3.9.0"
  }
 },
 "nbformat": 4,
 "nbformat_minor": 5
}
